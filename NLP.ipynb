{
 "cells": [
  {
   "cell_type": "code",
   "execution_count": 2,
   "metadata": {},
   "outputs": [],
   "source": [
    "import pandas as pd\n",
    "import numpy as np\n",
    "import matplotlib.pyplot as plt\n",
    "import collections \n",
    "\n",
    "%matplotlib inline"
   ]
  },
  {
   "cell_type": "code",
   "execution_count": 3,
   "metadata": {},
   "outputs": [],
   "source": [
    "train = pd.read_csv('Train.csv')\n",
    "test = pd.read_csv('Test.csv')"
   ]
  },
  {
   "cell_type": "code",
   "execution_count": 4,
   "metadata": {},
   "outputs": [
    {
     "data": {
      "text/plain": [
       "Index(['Id', 'Title', 'Body', 'Tags'], dtype='object')"
      ]
     },
     "execution_count": 4,
     "metadata": {},
     "output_type": "execute_result"
    }
   ],
   "source": [
    "train.columns"
   ]
  },
  {
   "cell_type": "code",
   "execution_count": 5,
   "metadata": {},
   "outputs": [
    {
     "data": {
      "text/plain": [
       "(6034195, 4)"
      ]
     },
     "execution_count": 5,
     "metadata": {},
     "output_type": "execute_result"
    }
   ],
   "source": [
    "train.shape"
   ]
  },
  {
   "cell_type": "code",
   "execution_count": 6,
   "metadata": {},
   "outputs": [
    {
     "data": {
      "text/plain": [
       "(2013337, 3)"
      ]
     },
     "execution_count": 6,
     "metadata": {},
     "output_type": "execute_result"
    }
   ],
   "source": [
    "test.shape"
   ]
  },
  {
   "cell_type": "code",
   "execution_count": 7,
   "metadata": {},
   "outputs": [
    {
     "data": {
      "text/plain": [
       "1    2656277\n",
       "2    1272335\n",
       "3     277575\n",
       "4         90\n",
       "5         25\n",
       "6          5\n",
       "Name: Count, dtype: int64"
      ]
     },
     "execution_count": 7,
     "metadata": {},
     "output_type": "execute_result"
    }
   ],
   "source": [
    "grouped_train=train.groupby(['Title','Body','Tags']).size().reset_index(name='Count')\n",
    "grouped_train.Count.value_counts()"
   ]
  },
  {
   "cell_type": "code",
   "execution_count": 126,
   "metadata": {},
   "outputs": [
    {
     "data": {
      "image/png": "[encoded data removed]",
      "text/plain": [
       "<Figure size 432x288 with 1 Axes>"
      ]
     },
     "metadata": {},
     "output_type": "display_data"
    }
   ],
   "source": [
    "explode = (0.1, 0, 0, 0, 0, 0)\n",
    "tgt1=grouped_train.Count.unique()\n",
    "tgt2=grouped_train.Count.value_counts()\n",
    "\n",
    "fig1, ax1 = plt.subplots()\n",
    "ax1.pie(tgt2, explode=explode, labels=tgt1, autopct='%1.1f%%', startangle=90)\n",
    "ax1.axis('equal')\n",
    "ax1.set_title('Train Data',pad=20)\n",
    "ax1.title.set_color('red')\n",
    "plt.savefig('duplicated_train.png', bbox_inches = \"tight\", dpi=125)\n",
    "\n",
    "plt.show()\n"
   ]
  },
  {
   "cell_type": "code",
   "execution_count": 9,
   "metadata": {},
   "outputs": [
    {
     "data": {
      "text/plain": [
       "1    1562785\n",
       "2     208857\n",
       "3      10919\n",
       "4         19\n",
       "5          1\n",
       "Name: Count, dtype: int64"
      ]
     },
     "execution_count": 9,
     "metadata": {},
     "output_type": "execute_result"
    }
   ],
   "source": [
    "grouped_test=test.groupby(['Title','Body']).size().reset_index(name='Count')\n",
    "grouped_test.Count.value_counts()"
   ]
  },
  {
   "cell_type": "code",
   "execution_count": 127,
   "metadata": {},
   "outputs": [
    {
     "data": {
      "image/png": "[encoded data removed]",
      "text/plain": [
       "<Figure size 432x288 with 1 Axes>"
      ]
     },
     "metadata": {},
     "output_type": "display_data"
    }
   ],
   "source": [
    "explode = (0.1, 0, 0, 0, 0)\n",
    "tgt1=grouped_test.Count.unique()\n",
    "tgt2=grouped_test.Count.value_counts()\n",
    "\n",
    "fig1, ax1 = plt.subplots()\n",
    "ax1.pie(tgt2, explode=explode, labels=tgt1, autopct='%1.1f%%', startangle=90)\n",
    "ax1.axis('equal')\n",
    "ax1.set_title('Test Data',pad=20)\n",
    "ax1.title.set_color('red')\n",
    "plt.savefig('duplicated_test.png',  bbox_inches = \"tight\",dpi=125)\n",
    "plt.show()\n"
   ]
  },
  {
   "cell_type": "raw",
   "metadata": {},
   "source": []
  },
  {
   "cell_type": "code",
   "execution_count": 11,
   "metadata": {},
   "outputs": [
    {
     "data": {
      "text/html": [
       "<div>\n",
       "<style scoped>\n",
       "    .dataframe tbody tr th:only-of-type {\n",
       "        vertical-align: middle;\n",
       "    }\n",
       "\n",
       "    .dataframe tbody tr th {\n",
       "        vertical-align: top;\n",
       "    }\n",
       "\n",
       "    .dataframe thead th {\n",
       "        text-align: right;\n",
       "    }\n",
       "</style>\n",
       "<table border=\"1\" class=\"dataframe\">\n",
       "  <thead>\n",
       "    <tr style=\"text-align: right;\">\n",
       "      <th></th>\n",
       "      <th>Id</th>\n",
       "      <th>Title</th>\n",
       "      <th>Body</th>\n",
       "      <th>Tags</th>\n",
       "    </tr>\n",
       "  </thead>\n",
       "  <tbody>\n",
       "    <tr>\n",
       "      <th>0</th>\n",
       "      <td>1</td>\n",
       "      <td>How to check if an uploaded file is an image w...</td>\n",
       "      <td>&lt;p&gt;I'd like to check if an uploaded file is an...</td>\n",
       "      <td>php image-processing file-upload upload mime-t...</td>\n",
       "    </tr>\n",
       "    <tr>\n",
       "      <th>1</th>\n",
       "      <td>2</td>\n",
       "      <td>How can I prevent firefox from closing when I ...</td>\n",
       "      <td>&lt;p&gt;In my favorite editor (vim), I regularly us...</td>\n",
       "      <td>firefox</td>\n",
       "    </tr>\n",
       "    <tr>\n",
       "      <th>2</th>\n",
       "      <td>3</td>\n",
       "      <td>R Error Invalid type (list) for variable</td>\n",
       "      <td>&lt;p&gt;I am import matlab file and construct a dat...</td>\n",
       "      <td>r matlab machine-learning</td>\n",
       "    </tr>\n",
       "    <tr>\n",
       "      <th>3</th>\n",
       "      <td>4</td>\n",
       "      <td>How do I replace special characters in a URL?</td>\n",
       "      <td>&lt;p&gt;This is probably very simple, but I simply ...</td>\n",
       "      <td>c# url encoding</td>\n",
       "    </tr>\n",
       "    <tr>\n",
       "      <th>4</th>\n",
       "      <td>5</td>\n",
       "      <td>How to modify whois contact details?</td>\n",
       "      <td>&lt;pre&gt;&lt;code&gt;function modify(.......)\\n{\\n  $mco...</td>\n",
       "      <td>php api file-get-contents</td>\n",
       "    </tr>\n",
       "    <tr>\n",
       "      <th>5</th>\n",
       "      <td>6</td>\n",
       "      <td>setting proxy in active directory environment</td>\n",
       "      <td>&lt;p&gt;I am using a machine on which active direct...</td>\n",
       "      <td>proxy active-directory jmeter</td>\n",
       "    </tr>\n",
       "    <tr>\n",
       "      <th>6</th>\n",
       "      <td>7</td>\n",
       "      <td>How to draw barplot in this way with Coreplot</td>\n",
       "      <td>&lt;p&gt;My image is cannot post so  the link is my ...</td>\n",
       "      <td>core-plot</td>\n",
       "    </tr>\n",
       "    <tr>\n",
       "      <th>7</th>\n",
       "      <td>8</td>\n",
       "      <td>How to fetch an XML feed using asp.net</td>\n",
       "      <td>&lt;p&gt;I've decided to convert a Windows Phone 7 a...</td>\n",
       "      <td>c# asp.net windows-phone-7</td>\n",
       "    </tr>\n",
       "    <tr>\n",
       "      <th>8</th>\n",
       "      <td>9</td>\n",
       "      <td>.NET library for generating javascript?</td>\n",
       "      <td>&lt;p&gt;Do you know of a .NET library for generatin...</td>\n",
       "      <td>.net javascript code-generation</td>\n",
       "    </tr>\n",
       "    <tr>\n",
       "      <th>9</th>\n",
       "      <td>10</td>\n",
       "      <td>SQL Server : procedure call, inline concatenat...</td>\n",
       "      <td>&lt;p&gt;I'm using SQL Server 2008 R2 and was wonder...</td>\n",
       "      <td>sql variables parameters procedure calls</td>\n",
       "    </tr>\n",
       "    <tr>\n",
       "      <th>10</th>\n",
       "      <td>11</td>\n",
       "      <td>How do commercial obfuscators achieve to crash...</td>\n",
       "      <td>&lt;p&gt;Some commercial obfuscators &lt;a href=\"http:/...</td>\n",
       "      <td>.net obfuscation reflector</td>\n",
       "    </tr>\n",
       "    <tr>\n",
       "      <th>11</th>\n",
       "      <td>12</td>\n",
       "      <td>Crappy Random Number Generator</td>\n",
       "      <td>&lt;p&gt;This may sound like an odd question, but wh...</td>\n",
       "      <td>algorithm language-agnostic random</td>\n",
       "    </tr>\n",
       "    <tr>\n",
       "      <th>12</th>\n",
       "      <td>13</td>\n",
       "      <td>Migrate from Mdaemon to postfix</td>\n",
       "      <td>&lt;p&gt;how can I move Inbox/Sent/Draft from Mdaemo...</td>\n",
       "      <td>postfix migration mdaemon</td>\n",
       "    </tr>\n",
       "    <tr>\n",
       "      <th>13</th>\n",
       "      <td>14</td>\n",
       "      <td>Where can I find the LaTeX3 manual?</td>\n",
       "      <td>&lt;p&gt;Few month ago I saw a big pdf-manual of all...</td>\n",
       "      <td>documentation latex3 expl3</td>\n",
       "    </tr>\n",
       "    <tr>\n",
       "      <th>14</th>\n",
       "      <td>15</td>\n",
       "      <td>Can I stop windows 7 from fading windows on al...</td>\n",
       "      <td>&lt;p&gt;When you hit alt tab on windows 7 and stop ...</td>\n",
       "      <td>windows-7</td>\n",
       "    </tr>\n",
       "  </tbody>\n",
       "</table>\n",
       "</div>"
      ],
      "text/plain": [
       "    Id                                              Title  \\\n",
       "0    1  How to check if an uploaded file is an image w...   \n",
       "1    2  How can I prevent firefox from closing when I ...   \n",
       "2    3           R Error Invalid type (list) for variable   \n",
       "3    4      How do I replace special characters in a URL?   \n",
       "4    5               How to modify whois contact details?   \n",
       "5    6      setting proxy in active directory environment   \n",
       "6    7      How to draw barplot in this way with Coreplot   \n",
       "7    8             How to fetch an XML feed using asp.net   \n",
       "8    9            .NET library for generating javascript?   \n",
       "9   10  SQL Server : procedure call, inline concatenat...   \n",
       "10  11  How do commercial obfuscators achieve to crash...   \n",
       "11  12                     Crappy Random Number Generator   \n",
       "12  13                    Migrate from Mdaemon to postfix   \n",
       "13  14                Where can I find the LaTeX3 manual?   \n",
       "14  15  Can I stop windows 7 from fading windows on al...   \n",
       "\n",
       "                                                 Body  \\\n",
       "0   <p>I'd like to check if an uploaded file is an...   \n",
       "1   <p>In my favorite editor (vim), I regularly us...   \n",
       "2   <p>I am import matlab file and construct a dat...   \n",
       "3   <p>This is probably very simple, but I simply ...   \n",
       "4   <pre><code>function modify(.......)\\n{\\n  $mco...   \n",
       "5   <p>I am using a machine on which active direct...   \n",
       "6   <p>My image is cannot post so  the link is my ...   \n",
       "7   <p>I've decided to convert a Windows Phone 7 a...   \n",
       "8   <p>Do you know of a .NET library for generatin...   \n",
       "9   <p>I'm using SQL Server 2008 R2 and was wonder...   \n",
       "10  <p>Some commercial obfuscators <a href=\"http:/...   \n",
       "11  <p>This may sound like an odd question, but wh...   \n",
       "12  <p>how can I move Inbox/Sent/Draft from Mdaemo...   \n",
       "13  <p>Few month ago I saw a big pdf-manual of all...   \n",
       "14  <p>When you hit alt tab on windows 7 and stop ...   \n",
       "\n",
       "                                                 Tags  \n",
       "0   php image-processing file-upload upload mime-t...  \n",
       "1                                             firefox  \n",
       "2                           r matlab machine-learning  \n",
       "3                                     c# url encoding  \n",
       "4                           php api file-get-contents  \n",
       "5                       proxy active-directory jmeter  \n",
       "6                                           core-plot  \n",
       "7                          c# asp.net windows-phone-7  \n",
       "8                     .net javascript code-generation  \n",
       "9            sql variables parameters procedure calls  \n",
       "10                         .net obfuscation reflector  \n",
       "11                 algorithm language-agnostic random  \n",
       "12                          postfix migration mdaemon  \n",
       "13                         documentation latex3 expl3  \n",
       "14                                          windows-7  "
      ]
     },
     "execution_count": 11,
     "metadata": {},
     "output_type": "execute_result"
    }
   ],
   "source": [
    "train.head(15)"
   ]
  },
  {
   "cell_type": "code",
   "execution_count": 12,
   "metadata": {},
   "outputs": [
    {
     "data": {
      "text/html": [
       "<div>\n",
       "<style scoped>\n",
       "    .dataframe tbody tr th:only-of-type {\n",
       "        vertical-align: middle;\n",
       "    }\n",
       "\n",
       "    .dataframe tbody tr th {\n",
       "        vertical-align: top;\n",
       "    }\n",
       "\n",
       "    .dataframe thead th {\n",
       "        text-align: right;\n",
       "    }\n",
       "</style>\n",
       "<table border=\"1\" class=\"dataframe\">\n",
       "  <thead>\n",
       "    <tr style=\"text-align: right;\">\n",
       "      <th></th>\n",
       "      <th>Id</th>\n",
       "      <th>Title</th>\n",
       "      <th>Body</th>\n",
       "    </tr>\n",
       "  </thead>\n",
       "  <tbody>\n",
       "    <tr>\n",
       "      <th>0</th>\n",
       "      <td>6034196</td>\n",
       "      <td>Getting rid of site-specific hotkeys</td>\n",
       "      <td>&lt;p&gt;How do I disable site-specific hotkeys if (...</td>\n",
       "    </tr>\n",
       "    <tr>\n",
       "      <th>1</th>\n",
       "      <td>6034197</td>\n",
       "      <td>Nodes inside Cisco VPN. Incoming SSH requests ...</td>\n",
       "      <td>&lt;p&gt;I've a gateway-to-gateway VPN setup between...</td>\n",
       "    </tr>\n",
       "    <tr>\n",
       "      <th>2</th>\n",
       "      <td>6034198</td>\n",
       "      <td>Remove old vCenter servers from VMWare vSphere...</td>\n",
       "      <td>&lt;p&gt;After changing our vCenter servers recently...</td>\n",
       "    </tr>\n",
       "    <tr>\n",
       "      <th>3</th>\n",
       "      <td>6034199</td>\n",
       "      <td>Replace &lt;span&gt; element with var containing html</td>\n",
       "      <td>&lt;p&gt;I have a variable i lifted the contents of,...</td>\n",
       "    </tr>\n",
       "    <tr>\n",
       "      <th>4</th>\n",
       "      <td>6034200</td>\n",
       "      <td>Will PHP included html content affect my seo?</td>\n",
       "      <td>&lt;p&gt;Today i purchase a small CMS system. With t...</td>\n",
       "    </tr>\n",
       "    <tr>\n",
       "      <th>5</th>\n",
       "      <td>6034201</td>\n",
       "      <td>Where is the acronym menu in Visual Studio 2010?</td>\n",
       "      <td>&lt;p&gt;With the following code Visual Studio + Res...</td>\n",
       "    </tr>\n",
       "    <tr>\n",
       "      <th>6</th>\n",
       "      <td>6034202</td>\n",
       "      <td>Iterating over the registers of a Yardoc `@macro`</td>\n",
       "      <td>&lt;p&gt;I am looking for way to iterate over the re...</td>\n",
       "    </tr>\n",
       "    <tr>\n",
       "      <th>7</th>\n",
       "      <td>6034203</td>\n",
       "      <td>URL Rewriting from Winforms or console applica...</td>\n",
       "      <td>&lt;p&gt;I'm importing classic ASP pages into a new ...</td>\n",
       "    </tr>\n",
       "    <tr>\n",
       "      <th>8</th>\n",
       "      <td>6034204</td>\n",
       "      <td>Create Non-Culture Based ResourceManager for A...</td>\n",
       "      <td>&lt;p&gt;I am working on an ASP.Net application that...</td>\n",
       "    </tr>\n",
       "    <tr>\n",
       "      <th>9</th>\n",
       "      <td>6034205</td>\n",
       "      <td>cocos2d: Handeling keyboard events on linux</td>\n",
       "      <td>&lt;p&gt;Im using cocos2d-x for developing a Linux a...</td>\n",
       "    </tr>\n",
       "    <tr>\n",
       "      <th>10</th>\n",
       "      <td>6034206</td>\n",
       "      <td>Are there standard practices when writing a sp...</td>\n",
       "      <td>&lt;p&gt;Are there standard practices when writing a...</td>\n",
       "    </tr>\n",
       "    <tr>\n",
       "      <th>11</th>\n",
       "      <td>6034207</td>\n",
       "      <td>Upgrade ScriptSharp from 0.7.4 to 0.7.6 throws...</td>\n",
       "      <td>&lt;p&gt;I just compiled the master branch of Script...</td>\n",
       "    </tr>\n",
       "    <tr>\n",
       "      <th>12</th>\n",
       "      <td>6034208</td>\n",
       "      <td>How can I auto-update a news feed with javascr...</td>\n",
       "      <td>&lt;p&gt;How can I automatically update just the new...</td>\n",
       "    </tr>\n",
       "    <tr>\n",
       "      <th>13</th>\n",
       "      <td>6034209</td>\n",
       "      <td>how to delete from multiple table</td>\n",
       "      <td>&lt;p&gt;I have 3 tables:&lt;/p&gt;\\n\\n&lt;ol&gt;\\n&lt;li&gt;&lt;p&gt;table ...</td>\n",
       "    </tr>\n",
       "    <tr>\n",
       "      <th>14</th>\n",
       "      <td>6034210</td>\n",
       "      <td>Get number of elements in enumerate</td>\n",
       "      <td>&lt;p&gt;Suppose, I have the following code:&lt;/p&gt;\\n\\n...</td>\n",
       "    </tr>\n",
       "  </tbody>\n",
       "</table>\n",
       "</div>"
      ],
      "text/plain": [
       "         Id                                              Title  \\\n",
       "0   6034196               Getting rid of site-specific hotkeys   \n",
       "1   6034197  Nodes inside Cisco VPN. Incoming SSH requests ...   \n",
       "2   6034198  Remove old vCenter servers from VMWare vSphere...   \n",
       "3   6034199    Replace <span> element with var containing html   \n",
       "4   6034200      Will PHP included html content affect my seo?   \n",
       "5   6034201   Where is the acronym menu in Visual Studio 2010?   \n",
       "6   6034202  Iterating over the registers of a Yardoc `@macro`   \n",
       "7   6034203  URL Rewriting from Winforms or console applica...   \n",
       "8   6034204  Create Non-Culture Based ResourceManager for A...   \n",
       "9   6034205        cocos2d: Handeling keyboard events on linux   \n",
       "10  6034206  Are there standard practices when writing a sp...   \n",
       "11  6034207  Upgrade ScriptSharp from 0.7.4 to 0.7.6 throws...   \n",
       "12  6034208  How can I auto-update a news feed with javascr...   \n",
       "13  6034209                  how to delete from multiple table   \n",
       "14  6034210                Get number of elements in enumerate   \n",
       "\n",
       "                                                 Body  \n",
       "0   <p>How do I disable site-specific hotkeys if (...  \n",
       "1   <p>I've a gateway-to-gateway VPN setup between...  \n",
       "2   <p>After changing our vCenter servers recently...  \n",
       "3   <p>I have a variable i lifted the contents of,...  \n",
       "4   <p>Today i purchase a small CMS system. With t...  \n",
       "5   <p>With the following code Visual Studio + Res...  \n",
       "6   <p>I am looking for way to iterate over the re...  \n",
       "7   <p>I'm importing classic ASP pages into a new ...  \n",
       "8   <p>I am working on an ASP.Net application that...  \n",
       "9   <p>Im using cocos2d-x for developing a Linux a...  \n",
       "10  <p>Are there standard practices when writing a...  \n",
       "11  <p>I just compiled the master branch of Script...  \n",
       "12  <p>How can I automatically update just the new...  \n",
       "13  <p>I have 3 tables:</p>\\n\\n<ol>\\n<li><p>table ...  \n",
       "14  <p>Suppose, I have the following code:</p>\\n\\n...  "
      ]
     },
     "execution_count": 12,
     "metadata": {},
     "output_type": "execute_result"
    }
   ],
   "source": [
    "test.head(15)"
   ]
  },
  {
   "cell_type": "code",
   "execution_count": 13,
   "metadata": {},
   "outputs": [
    {
     "data": {
      "text/plain": [
       "8"
      ]
     },
     "execution_count": 13,
     "metadata": {},
     "output_type": "execute_result"
    }
   ],
   "source": [
    "train.Tags.isna().sum()"
   ]
  },
  {
   "cell_type": "code",
   "execution_count": 14,
   "metadata": {},
   "outputs": [],
   "source": [
    "unique_tags =set()\n",
    "all_tags=[]\n",
    "\n",
    "tags_df=train.Tags\n",
    "for i in tags_df:\n",
    "    if pd.notna(i):\n",
    "        tmp_tag_ls=i.split(\" \")\n",
    "        for j in tmp_tag_ls:\n",
    "            unique_tags.add(j)\n",
    "            all_tags.append(j)\n"
   ]
  },
  {
   "cell_type": "code",
   "execution_count": 15,
   "metadata": {},
   "outputs": [
    {
     "name": "stdout",
     "output_type": "stream",
     "text": [
      "number of unique tags :  42048\n"
     ]
    }
   ],
   "source": [
    "print(\"number of unique tags : \",len(unique_tags))"
   ]
  },
  {
   "cell_type": "code",
   "execution_count": 16,
   "metadata": {},
   "outputs": [
    {
     "name": "stdout",
     "output_type": "stream",
     "text": [
      "number of all tags :  17409986\n"
     ]
    }
   ],
   "source": [
    "print(\"number of all tags : \",len(all_tags))"
   ]
  },
  {
   "cell_type": "code",
   "execution_count": 17,
   "metadata": {},
   "outputs": [
    {
     "data": {
      "text/plain": [
       "list"
      ]
     },
     "execution_count": 17,
     "metadata": {},
     "output_type": "execute_result"
    }
   ],
   "source": [
    "type(all_tags)"
   ]
  },
  {
   "cell_type": "code",
   "execution_count": 18,
   "metadata": {},
   "outputs": [],
   "source": [
    "freq_tags=collections.Counter(all_tags)"
   ]
  },
  {
   "cell_type": "code",
   "execution_count": 19,
   "metadata": {},
   "outputs": [],
   "source": [
    "top_tags={}\n",
    "top_25_tags={}\n",
    "cnt=0\n",
    "for i in freq_tags.most_common():\n",
    "    #print(i)\n",
    "    top_tags[i[0]]=i[1]\n",
    "    cnt=cnt+1\n",
    "    if cnt<=25:\n",
    "        top_25_tags[i[0]]=i[1]\n",
    "    if cnt>99:\n",
    "        break"
   ]
  },
  {
   "cell_type": "code",
   "execution_count": 20,
   "metadata": {},
   "outputs": [
    {
     "data": {
      "text/plain": [
       "{'c#': 463526,\n",
       " 'java': 412189,\n",
       " 'php': 392451,\n",
       " 'javascript': 365623,\n",
       " 'android': 320622,\n",
       " 'jquery': 305614,\n",
       " 'c++': 199280,\n",
       " 'python': 184928,\n",
       " 'iphone': 183573,\n",
       " 'asp.net': 177334,\n",
       " 'mysql': 172182,\n",
       " 'html': 165507,\n",
       " '.net': 162359,\n",
       " 'ios': 136080,\n",
       " 'objective-c': 133932,\n",
       " 'sql': 132465,\n",
       " 'css': 129107,\n",
       " 'linux': 127606,\n",
       " 'ruby-on-rails': 116883,\n",
       " 'windows': 98100,\n",
       " 'c': 95453,\n",
       " 'sql-server': 74921,\n",
       " 'ruby': 73502,\n",
       " 'wpf': 65836,\n",
       " 'xml': 64157}"
      ]
     },
     "execution_count": 20,
     "metadata": {},
     "output_type": "execute_result"
    }
   ],
   "source": [
    "top_25_tags"
   ]
  },
  {
   "cell_type": "code",
   "execution_count": 21,
   "metadata": {},
   "outputs": [
    {
     "data": {
      "text/plain": [
       "{'c#': 463526,\n",
       " 'java': 412189,\n",
       " 'php': 392451,\n",
       " 'javascript': 365623,\n",
       " 'android': 320622,\n",
       " 'jquery': 305614,\n",
       " 'c++': 199280,\n",
       " 'python': 184928,\n",
       " 'iphone': 183573,\n",
       " 'asp.net': 177334,\n",
       " 'mysql': 172182,\n",
       " 'html': 165507,\n",
       " '.net': 162359,\n",
       " 'ios': 136080,\n",
       " 'objective-c': 133932,\n",
       " 'sql': 132465,\n",
       " 'css': 129107,\n",
       " 'linux': 127606,\n",
       " 'ruby-on-rails': 116883,\n",
       " 'windows': 98100,\n",
       " 'c': 95453,\n",
       " 'sql-server': 74921,\n",
       " 'ruby': 73502,\n",
       " 'wpf': 65836,\n",
       " 'xml': 64157,\n",
       " 'ajax': 62239,\n",
       " 'database': 59799,\n",
       " 'regex': 59223,\n",
       " 'windows-7': 58487,\n",
       " 'asp.net-mvc': 57859,\n",
       " 'xcode': 52513,\n",
       " 'django': 52030,\n",
       " 'osx': 51812,\n",
       " 'arrays': 50055,\n",
       " 'vb.net': 46653,\n",
       " 'eclipse': 44092,\n",
       " 'json': 43451,\n",
       " 'facebook': 43393,\n",
       " 'ruby-on-rails-3': 43166,\n",
       " 'ubuntu': 43002,\n",
       " 'performance': 39377,\n",
       " 'networking': 38323,\n",
       " 'string': 37802,\n",
       " 'multithreading': 37619,\n",
       " 'winforms': 37370,\n",
       " 'security': 34499,\n",
       " 'visual-studio-2010': 34433,\n",
       " 'asp.net-mvc-3': 34422,\n",
       " 'bash': 33116,\n",
       " 'homework': 32535,\n",
       " 'image': 32280,\n",
       " 'wcf': 31490,\n",
       " 'html5': 31243,\n",
       " 'wordpress': 30556,\n",
       " 'visual-studio': 30148,\n",
       " 'web-services': 30141,\n",
       " 'forms': 30026,\n",
       " 'algorithm': 29773,\n",
       " 'sql-server-2008': 29743,\n",
       " 'linq': 29543,\n",
       " 'oracle': 29382,\n",
       " 'git': 29377,\n",
       " 'query': 28931,\n",
       " 'perl': 28641,\n",
       " 'apache2': 27619,\n",
       " 'flash': 27458,\n",
       " 'actionscript-3': 27111,\n",
       " 'ipad': 27098,\n",
       " 'spring': 26995,\n",
       " 'apache': 26990,\n",
       " 'silverlight': 26932,\n",
       " 'email': 26888,\n",
       " 'r': 26863,\n",
       " 'cocoa-touch': 26314,\n",
       " 'cocoa': 26062,\n",
       " 'swing': 25872,\n",
       " 'hibernate': 24880,\n",
       " 'excel': 24025,\n",
       " 'entity-framework': 23978,\n",
       " 'file': 23406,\n",
       " 'shell': 22309,\n",
       " 'flex': 22248,\n",
       " 'api': 22037,\n",
       " 'list': 21628,\n",
       " 'internet-explorer': 21583,\n",
       " 'firefox': 21427,\n",
       " 'jquery-ui': 21395,\n",
       " 'delphi': 21367,\n",
       " '.htaccess': 21022,\n",
       " 'sqlite': 20741,\n",
       " 'qt': 20586,\n",
       " 'tsql': 20544,\n",
       " 'google-chrome': 20408,\n",
       " 'node.js': 20280,\n",
       " 'unix': 20205,\n",
       " 'windows-xp': 20193,\n",
       " 'http': 19768,\n",
       " 'svn': 19727,\n",
       " 'unit-testing': 19166,\n",
       " 'oop': 19016}"
      ]
     },
     "execution_count": 21,
     "metadata": {},
     "output_type": "execute_result"
    }
   ],
   "source": [
    "top_tags"
   ]
  },
  {
   "cell_type": "code",
   "execution_count": 22,
   "metadata": {},
   "outputs": [
    {
     "name": "stdout",
     "output_type": "stream",
     "text": [
      "differecnt between most common tag and most common 100th tag :  444510  which is only  4.102466744044563 % of the count of most common tag\n"
     ]
    }
   ],
   "source": [
    "print(\"differecnt between most common tag and most common 100th tag : \" ,top_tags['c#'] - top_tags['oop'],\" which is only \" , top_tags['oop']*100/top_tags['c#'],\"% of the count of most common tag\")"
   ]
  },
  {
   "cell_type": "code",
   "execution_count": 112,
   "metadata": {},
   "outputs": [
    {
     "data": {
      "image/png": "[encoded data removed]",
      "text/plain": [
       "<Figure size 432x288 with 1 Axes>"
      ]
     },
     "metadata": {},
     "output_type": "display_data"
    }
   ],
   "source": [
    "fig = plt.figure()\n",
    "ax = fig.add_subplot(111)\n",
    "\n",
    "ax.plot(top_tags.values(),np.arange(100))\n",
    "ax.set_ylabel(\"Tags\")\n",
    "ax.set_xlabel(\"Frequency\")\n",
    "ax.set_title(\"Frequency Trend of 100 Most Common Tags\")\n",
    "ax.xaxis.label.set_color(\"red\")\n",
    "ax.yaxis.label.set_color(\"red\")\n",
    "ax.title.set_color(\"red\")\n",
    "plt.savefig(\"top 100 plot\",dpi=300,bbox_inches = \"tight\")"
   ]
  },
  {
   "cell_type": "code",
   "execution_count": 102,
   "metadata": {},
   "outputs": [
    {
     "data": {
      "image/png": "[encoded data removed]",
      "text/plain": [
       "<Figure size 432x288 with 1 Axes>"
      ]
     },
     "metadata": {},
     "output_type": "display_data"
    }
   ],
   "source": [
    "fig = plt.figure()\n",
    "ax = fig.add_subplot(111)\n",
    "\n",
    "ax.plot(top_25_tags.values(),top_25_tags.keys())\n",
    "ax.set_ylabel(\"Tags\")\n",
    "ax.set_xlabel(\"Frequency\")\n",
    "ax.set_title(\"Frequency Trend of 25 Most Common Tags\")\n",
    "ax.xaxis.label.set_color(\"red\")\n",
    "ax.yaxis.label.set_color(\"red\")\n",
    "ax.title.set_color(\"red\")\n",
    "plt.savefig(\"top 25 plot.png\", bbox_inches = \"tight\",dpi=300)\n",
    "plt.show()\n"
   ]
  },
  {
   "cell_type": "code",
   "execution_count": 103,
   "metadata": {},
   "outputs": [],
   "source": [
    "tags_lt_5={}\n",
    "for i in freq_tags.most_common():\n",
    "    if i[1]<=25:\n",
    "        tags_lt_5[i[0]]=i[1]"
   ]
  },
  {
   "cell_type": "code",
   "execution_count": 104,
   "metadata": {},
   "outputs": [
    {
     "name": "stdout",
     "output_type": "stream",
     "text": [
      "number of tags appear less than or equal to 25 times is :  21600\n"
     ]
    }
   ],
   "source": [
    "print(\"number of tags appear less than or equal to 25 times is : \",len(tags_lt_5))"
   ]
  },
  {
   "cell_type": "code",
   "execution_count": 114,
   "metadata": {},
   "outputs": [],
   "source": [
    "tags_range=[0,0,0,0,0,0]\n",
    "for i in freq_tags.most_common():\n",
    "    if i[1] == 1:\n",
    "        tags_range[0]=tags_range[0]+1\n",
    "    elif i[1] <= 10:\n",
    "        tags_range[1]=tags_range[1]+1\n",
    "    elif i[1] <= 100:\n",
    "        tags_range[2]=tags_range[3]+1\n",
    "    elif i[1] <= 1000:\n",
    "        tags_range[3]=tags_range[3]+1\n",
    "    elif i[1] <= 10000:\n",
    "        tags_range[4]=tags_range[4]+1\n",
    "    elif i[1] > 10000:\n",
    "        tags_range[5]=tags_range[5]+1"
   ]
  },
  {
   "cell_type": "code",
   "execution_count": 115,
   "metadata": {},
   "outputs": [
    {
     "data": {
      "text/plain": [
       "[2663, 10994, 7991, 7990, 1914, 234]"
      ]
     },
     "execution_count": 115,
     "metadata": {},
     "output_type": "execute_result"
    }
   ],
   "source": [
    "tags_range"
   ]
  },
  {
   "cell_type": "code",
   "execution_count": 116,
   "metadata": {},
   "outputs": [
    {
     "data": {
      "image/png": "[encoded data removed]",
      "text/plain": [
       "<Figure size 432x288 with 1 Axes>"
      ]
     },
     "metadata": {},
     "output_type": "display_data"
    }
   ],
   "source": [
    "fig = plt.figure()\n",
    "ax = fig.add_subplot(111)\n",
    "\n",
    "ax.bar([\"=1\",\"<=10\",\"<=100\",\"<=1000\",\"<=10000\",\">10000\"],tags_range)\n",
    "ax.set_ylabel(\"Count\")\n",
    "ax.set_xlabel(\"Range\")\n",
    "ax.set_title(\"Distribution of tags Based on Range\")\n",
    "ax.xaxis.label.set_color(\"red\")\n",
    "ax.yaxis.label.set_color(\"red\")\n",
    "ax.title.set_color(\"red\")\n",
    "plt.savefig(\"tags count bar.png\",dpi=300,bbox_inches = \"tight\")\n",
    "plt.show()"
   ]
  },
  {
   "cell_type": "code",
   "execution_count": null,
   "metadata": {},
   "outputs": [],
   "source": []
  },
  {
   "cell_type": "code",
   "execution_count": null,
   "metadata": {},
   "outputs": [],
   "source": []
  },
  {
   "cell_type": "code",
   "execution_count": null,
   "metadata": {},
   "outputs": [],
   "source": []
  }
 ],
 "metadata": {
  "kernelspec": {
   "display_name": "Python 3",
   "language": "python",
   "name": "python3"
  },
  "language_info": {
   "codemirror_mode": {
    "name": "ipython",
    "version": 3
   },
   "file_extension": ".py",
   "mimetype": "text/x-python",
   "name": "python",
   "nbconvert_exporter": "python",
   "pygments_lexer": "ipython3",
   "version": "3.6.6"
  }
 },
 "nbformat": 4,
 "nbformat_minor": 4
}
